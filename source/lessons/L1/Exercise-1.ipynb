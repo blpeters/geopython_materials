{
 "cells": [
  {
   "cell_type": "code",
   "execution_count": 1,
   "id": "630674fa-9afd-40e2-9c20-454fda49069e",
   "metadata": {},
   "outputs": [],
   "source": [
    "ice_cream_rating = 8\n",
    "sleeping_rating = 10"
   ]
  },
  {
   "cell_type": "code",
   "execution_count": 18,
   "id": "2cfb72cd-f05b-4489-a043-ec5ff0d04371",
   "metadata": {},
   "outputs": [],
   "source": [
    "first_name = 'Brett'\n",
    "last_name = 'Peters'\n",
    "my_name = first_name + ' ' + last_name"
   ]
  },
  {
   "cell_type": "code",
   "execution_count": 8,
   "id": "4aee09e0-845d-41a0-aed3-46e68ef01cbe",
   "metadata": {},
   "outputs": [
    {
     "name": "stdout",
     "output_type": "stream",
     "text": [
      "9.0\n"
     ]
    }
   ],
   "source": [
    "happiness_rating = (ice_cream_rating + sleeping_rating) / 2\n",
    "print(happiness_rating)"
   ]
  },
  {
   "cell_type": "code",
   "execution_count": 10,
   "id": "a19a7012-c105-46cb-824e-5ecf5cc7e06f",
   "metadata": {},
   "outputs": [
    {
     "name": "stdout",
     "output_type": "stream",
     "text": [
      "<class 'int'> <class 'float'> <class 'str'>\n"
     ]
    }
   ],
   "source": [
    "print(type(ice_cream_rating),type(happiness_rating),type(first_name))"
   ]
  },
  {
   "cell_type": "code",
   "execution_count": 26,
   "id": "a84fa5ca-9531-4cc2-98ca-d4dc1689e0b2",
   "metadata": {},
   "outputs": [
    {
     "name": "stdout",
     "output_type": "stream",
     "text": [
      "my name is Brett Peters and I like sleeping 10 out of 10\n"
     ]
    }
   ],
   "source": [
    "print(f\"my name is {first_name} {last_name} and I like sleeping {sleeping_rating} out of 10\")"
   ]
  },
  {
   "cell_type": "code",
   "execution_count": 25,
   "id": "ce95b4f7-bec7-4c1d-89cd-ae25d29877d1",
   "metadata": {},
   "outputs": [
    {
     "name": "stdout",
     "output_type": "stream",
     "text": [
      "my name is Brett Peters and I like sleeping 10 out of 10\n"
     ]
    }
   ],
   "source": [
    "print(f\"my name is {my_name} and I like sleeping {sleeping_rating} out of 10\")"
   ]
  },
  {
   "cell_type": "code",
   "execution_count": 28,
   "id": "9430d011-aa76-4a9a-8346-77313187f8b0",
   "metadata": {},
   "outputs": [
    {
     "data": {
      "text/plain": [
       "'My happiness rating is 9.0 out of 10, or 90.0%'"
      ]
     },
     "execution_count": 28,
     "metadata": {},
     "output_type": "execute_result"
    }
   ],
   "source": [
    "f\"My happiness rating is {happiness_rating} out of 10, or {(happiness_rating/10) * 100}%\""
   ]
  },
  {
   "cell_type": "code",
   "execution_count": null,
   "id": "0e9eb81d-ad7b-44fc-b91d-994018a7f119",
   "metadata": {},
   "outputs": [],
   "source": []
  }
 ],
 "metadata": {
  "kernelspec": {
   "display_name": "Python 3 (ipykernel)",
   "language": "python",
   "name": "python3"
  },
  "language_info": {
   "codemirror_mode": {
    "name": "ipython",
    "version": 3
   },
   "file_extension": ".py",
   "mimetype": "text/x-python",
   "name": "python",
   "nbconvert_exporter": "python",
   "pygments_lexer": "ipython3",
   "version": "3.10.14"
  }
 },
 "nbformat": 4,
 "nbformat_minor": 5
}
